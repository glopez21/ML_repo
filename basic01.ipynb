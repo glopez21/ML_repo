{
  "nbformat": 4,
  "nbformat_minor": 0,
  "metadata": {
    "colab": {
      "name": "basic01.ipynb",
      "provenance": [],
      "authorship_tag": "ABX9TyPKmXLv9smPvpJV/e8Sfj8O",
      "include_colab_link": true
    },
    "kernelspec": {
      "name": "python3",
      "display_name": "Python 3"
    }
  },
  "cells": [
    {
      "cell_type": "markdown",
      "metadata": {
        "id": "view-in-github",
        "colab_type": "text"
      },
      "source": [
        "<a href=\"https://colab.research.google.com/github/glopez21/ML_repo/blob/master/basic01.ipynb\" target=\"_parent\"><img src=\"https://colab.research.google.com/assets/colab-badge.svg\" alt=\"Open In Colab\"/></a>"
      ]
    },
    {
      "cell_type": "code",
      "metadata": {
        "id": "94ETP4U5YSg4"
      },
      "source": [
        "import math"
      ],
      "execution_count": 17,
      "outputs": []
    },
    {
      "cell_type": "markdown",
      "metadata": {
        "id": "jqhA6z9yMIU1"
      },
      "source": [
        "Create five variables"
      ]
    },
    {
      "cell_type": "code",
      "metadata": {
        "id": "LmsI5wnvLpYq"
      },
      "source": [
        "first_name = 'Genghis'\r\n",
        "firstName = 'Sarah'\r\n",
        "FirstName = 'Sukhyang'\r\n",
        "FIRSTNAME = 'ACE'"
      ],
      "execution_count": 4,
      "outputs": []
    },
    {
      "cell_type": "code",
      "metadata": {
        "colab": {
          "base_uri": "https://localhost:8080/"
        },
        "id": "o4rbAGyMM-aJ",
        "outputId": "44162fa8-f0bf-41db-fc6f-0fa8f87fbb8f"
      },
      "source": [
        "print(first_name)\r\n",
        "print(firstName)\r\n",
        "print(FirstName)\r\n",
        "print(FIRSTNAME)"
      ],
      "execution_count": 6,
      "outputs": [
        {
          "output_type": "stream",
          "text": [
            "Genghis\n",
            "Sarah\n",
            "Sukhyang\n",
            "ACE\n"
          ],
          "name": "stdout"
        }
      ]
    },
    {
      "cell_type": "markdown",
      "metadata": {
        "id": "pNE9jnpgMGCm"
      },
      "source": [
        "Creaste 10 Last Name Variables"
      ]
    },
    {
      "cell_type": "code",
      "metadata": {
        "id": "Raulgg37MFLI"
      },
      "source": [
        "num = 10"
      ],
      "execution_count": 7,
      "outputs": []
    },
    {
      "cell_type": "code",
      "metadata": {
        "colab": {
          "base_uri": "https://localhost:8080/"
        },
        "id": "WBa6-l0QPxak",
        "outputId": "83d866b3-b789-45fb-b5d7-d9fe8101d0d4"
      },
      "source": [
        "print(first_name)"
      ],
      "execution_count": 9,
      "outputs": [
        {
          "output_type": "stream",
          "text": [
            "Genghis\n"
          ],
          "name": "stdout"
        }
      ]
    },
    {
      "cell_type": "code",
      "metadata": {
        "id": "-mMEVA3aP3tI"
      },
      "source": [
        "first_name = 90"
      ],
      "execution_count": 10,
      "outputs": []
    },
    {
      "cell_type": "code",
      "metadata": {
        "colab": {
          "base_uri": "https://localhost:8080/"
        },
        "id": "B960GTEpP9Ui",
        "outputId": "92473678-8de2-4bd9-cdd2-97d1b82f46f8"
      },
      "source": [
        "print(first_name)"
      ],
      "execution_count": 11,
      "outputs": [
        {
          "output_type": "stream",
          "text": [
            "90\n"
          ],
          "name": "stdout"
        }
      ]
    },
    {
      "cell_type": "markdown",
      "metadata": {
        "id": "LYRPgFuVX1Pi"
      },
      "source": [
        "Data Types"
      ]
    },
    {
      "cell_type": "code",
      "metadata": {
        "id": "w-PP2nR9P_TV"
      },
      "source": [
        "num5 = 12.909886969876"
      ],
      "execution_count": 23,
      "outputs": []
    },
    {
      "cell_type": "code",
      "metadata": {
        "colab": {
          "base_uri": "https://localhost:8080/"
        },
        "id": "KUYAaU_KYFl3",
        "outputId": "9e397106-37fa-4e04-b70e-5b764abc6aa2"
      },
      "source": [
        "num"
      ],
      "execution_count": 24,
      "outputs": [
        {
          "output_type": "execute_result",
          "data": {
            "text/plain": [
              "7"
            ]
          },
          "metadata": {
            "tags": []
          },
          "execution_count": 24
        }
      ]
    },
    {
      "cell_type": "code",
      "metadata": {
        "colab": {
          "base_uri": "https://localhost:8080/"
        },
        "id": "GjzkqcUnYGk4",
        "outputId": "0cd861a2-d2ab-419d-d19c-c1777e3e4a96"
      },
      "source": [
        "math.pi"
      ],
      "execution_count": 25,
      "outputs": [
        {
          "output_type": "execute_result",
          "data": {
            "text/plain": [
              "3.141592653589793"
            ]
          },
          "metadata": {
            "tags": []
          },
          "execution_count": 25
        }
      ]
    },
    {
      "cell_type": "code",
      "metadata": {
        "id": "PAfz7KHqYMGy"
      },
      "source": [
        "num = 7\r\n",
        "num2 = 5"
      ],
      "execution_count": 26,
      "outputs": []
    },
    {
      "cell_type": "code",
      "metadata": {
        "id": "9nkI-7tdYpee"
      },
      "source": [
        "game = True"
      ],
      "execution_count": 27,
      "outputs": []
    },
    {
      "cell_type": "code",
      "metadata": {
        "colab": {
          "base_uri": "https://localhost:8080/"
        },
        "id": "B1dkeqzlY5NM",
        "outputId": "3a426a84-deca-416c-f60f-2e3289186727"
      },
      "source": [
        "type(num5)"
      ],
      "execution_count": 28,
      "outputs": [
        {
          "output_type": "execute_result",
          "data": {
            "text/plain": [
              "float"
            ]
          },
          "metadata": {
            "tags": []
          },
          "execution_count": 28
        }
      ]
    },
    {
      "cell_type": "code",
      "metadata": {
        "colab": {
          "base_uri": "https://localhost:8080/"
        },
        "id": "_08rkVGwY_CG",
        "outputId": "ebd8048f-1fa7-498d-f36c-c668c5446738"
      },
      "source": [
        "type(game)"
      ],
      "execution_count": 29,
      "outputs": [
        {
          "output_type": "execute_result",
          "data": {
            "text/plain": [
              "bool"
            ]
          },
          "metadata": {
            "tags": []
          },
          "execution_count": 29
        }
      ]
    },
    {
      "cell_type": "code",
      "metadata": {
        "id": "iTsxjhomZN1M"
      },
      "source": [
        "list = ['name', 'time', 'carrots']"
      ],
      "execution_count": 30,
      "outputs": []
    },
    {
      "cell_type": "code",
      "metadata": {
        "colab": {
          "base_uri": "https://localhost:8080/"
        },
        "id": "hKm02ETnZY-7",
        "outputId": "70453979-4f0f-4cd7-a4c1-b5f496209106"
      },
      "source": [
        "list"
      ],
      "execution_count": 31,
      "outputs": [
        {
          "output_type": "execute_result",
          "data": {
            "text/plain": [
              "['name', 'time', 'carrots']"
            ]
          },
          "metadata": {
            "tags": []
          },
          "execution_count": 31
        }
      ]
    },
    {
      "cell_type": "markdown",
      "metadata": {
        "id": "nv80svh_cTPG"
      },
      "source": [
        ""
      ]
    },
    {
      "cell_type": "code",
      "metadata": {
        "id": "MRoLr1wGZaLv"
      },
      "source": [
        ""
      ],
      "execution_count": null,
      "outputs": []
    },
    {
      "cell_type": "markdown",
      "metadata": {
        "id": "UNSnoK1UZdDc"
      },
      "source": [
        "Create 10 Lists, 10 Bool and 10 Floats"
      ]
    },
    {
      "cell_type": "code",
      "metadata": {
        "id": "or0BlQcNZhn6"
      },
      "source": [
        ""
      ],
      "execution_count": null,
      "outputs": []
    }
  ]
}